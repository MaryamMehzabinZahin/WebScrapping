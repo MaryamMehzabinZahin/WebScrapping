{
 "cells": [
  {
   "cell_type": "code",
   "execution_count": null,
   "metadata": {},
   "outputs": [],
   "source": [
    "import requests\n",
    "from bs4 import BeautifulSoup\n",
    "url = 'https://four-bs-restaurant.business.site'\n",
    "r = requests.get(url)\n",
    "page = r.content\n",
    "\n",
    "soup = BeautifulSoup(page, 'html.parser')\n",
    "print(soup.prettify)\n",
    "\n"
   ]
  },
  {
   "cell_type": "code",
   "execution_count": 16,
   "metadata": {},
   "outputs": [
    {
     "name": "stdout",
     "output_type": "stream",
     "text": [
      "<title>4 B's Restaurant - American Restaurant in Billings</title>\n"
     ]
    }
   ],
   "source": [
    "title = soup.title\n",
    "print(title)"
   ]
  },
  {
   "cell_type": "code",
   "execution_count": 18,
   "metadata": {},
   "outputs": [
    {
     "name": "stdout",
     "output_type": "stream",
     "text": [
      "[<table itemprop=\"openingHours\"><tr><th class=\"x2TOCf\">Mon:</th><td class=\"o0m3Qb\"><span class=\"WF8WNe\">7:00 AM â€“ 3:00 PM</span></td></tr><tr><th class=\"x2TOCf\">Tue:</th><td class=\"o0m3Qb\"><span class=\"WF8WNe\">7:00 AM â€“ 9:00 PM</span></td></tr><tr><th class=\"x2TOCf\">Wed:</th><td class=\"o0m3Qb\"><span class=\"WF8WNe\">7:00 AM â€“ 9:00 PM</span></td></tr><tr><th class=\"x2TOCf\">Thu:</th><td class=\"o0m3Qb\"><span class=\"WF8WNe\">7:00 AM â€“ 9:00 PM</span></td></tr><tr><th class=\"x2TOCf\">Fri:</th><td class=\"o0m3Qb\"><span class=\"WF8WNe\">7:00 AM â€“ 9:00 PM</span></td></tr><tr><th class=\"x2TOCf\">Sat:</th><td class=\"o0m3Qb\"><span class=\"WF8WNe\">7:00 AM â€“ 9:00 PM</span></td></tr><tr><th class=\"x2TOCf\">Sun:</th><td class=\"o0m3Qb\"><span class=\"WF8WNe\">7:00 AM â€“ 3:00 PM</span></td></tr></table>]\n"
     ]
    }
   ],
   "source": [
    "tables = soup.find_all('table')\n",
    "print(tables)\n"
   ]
  },
  {
   "cell_type": "code",
   "execution_count": 45,
   "metadata": {},
   "outputs": [
    {
     "name": "stdout",
     "output_type": "stream",
     "text": [
      "['Mon:']\n",
      "['Tue:']\n",
      "['Wed:']\n",
      "['Thu:']\n",
      "['Fri:']\n",
      "['Sat:']\n",
      "['Sun:']\n"
     ]
    }
   ],
   "source": [
    "import pandas as pd\n",
    "data=[]\n",
    "table = soup.find('table', itemprop=\"openingHours\")\n",
    "# table_list=pd.read_html(table.text)\n",
    "rows=table.find_all('tr')\n",
    "for row in rows:\n",
    "    names=row.find_all('th')\n",
    "    names = [ele.text.strip() for ele in names]\n",
    "    cols = row.find_all('td')\n",
    "    cols = [ele.text.strip() for ele in cols]\n",
    "    print(names,\" \",cols)\n",
    "\n",
    "\n",
    "\n"
   ]
  },
  {
   "cell_type": "code",
   "execution_count": 41,
   "metadata": {},
   "outputs": [
    {
     "name": "stdout",
     "output_type": "stream",
     "text": [
      "[[<td class=\"o0m3Qb\"><span class=\"WF8WNe\">7:00 AM â€“ 3:00 PM</span></td>], [<td class=\"o0m3Qb\"><span class=\"WF8WNe\">7:00 AM â€“ 9:00 PM</span></td>], [<td class=\"o0m3Qb\"><span class=\"WF8WNe\">7:00 AM â€“ 9:00 PM</span></td>], [<td class=\"o0m3Qb\"><span class=\"WF8WNe\">7:00 AM â€“ 9:00 PM</span></td>], [<td class=\"o0m3Qb\"><span class=\"WF8WNe\">7:00 AM â€“ 9:00 PM</span></td>], [<td class=\"o0m3Qb\"><span class=\"WF8WNe\">7:00 AM â€“ 9:00 PM</span></td>], [<td class=\"o0m3Qb\"><span class=\"WF8WNe\">7:00 AM â€“ 3:00 PM</span></td>]]\n"
     ]
    }
   ],
   "source": [
    "print (data)"
   ]
  },
  {
   "cell_type": "code",
   "execution_count": null,
   "metadata": {},
   "outputs": [],
   "source": []
  }
 ],
 "metadata": {
  "interpreter": {
   "hash": "b3ba2566441a7c06988d0923437866b63cedc61552a5af99d1f4fb67d367b25f"
  },
  "kernelspec": {
   "display_name": "Python 3.9.7 64-bit ('base': conda)",
   "language": "python",
   "name": "python3"
  },
  "language_info": {
   "codemirror_mode": {
    "name": "ipython",
    "version": 3
   },
   "file_extension": ".py",
   "mimetype": "text/x-python",
   "name": "python",
   "nbconvert_exporter": "python",
   "pygments_lexer": "ipython3",
   "version": "3.9.7"
  },
  "orig_nbformat": 4
 },
 "nbformat": 4,
 "nbformat_minor": 2
}
